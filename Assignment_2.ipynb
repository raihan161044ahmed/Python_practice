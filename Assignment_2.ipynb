{
  "nbformat": 4,
  "nbformat_minor": 0,
  "metadata": {
    "colab": {
      "name": "Assignment_2.ipynb",
      "provenance": [],
      "collapsed_sections": [],
      "authorship_tag": "ABX9TyNevB64U9xXae2M6x+QgtuK",
      "include_colab_link": true
    },
    "kernelspec": {
      "name": "python3",
      "display_name": "Python 3"
    }
  },
  "cells": [
    {
      "cell_type": "markdown",
      "metadata": {
        "id": "view-in-github",
        "colab_type": "text"
      },
      "source": [
        "<a href=\"https://colab.research.google.com/github/raihan161044ahmed/Python_practice/blob/master/Assignment_2.ipynb\" target=\"_parent\"><img src=\"https://colab.research.google.com/assets/colab-badge.svg\" alt=\"Open In Colab\"/></a>"
      ]
    },
    {
      "cell_type": "code",
      "metadata": {
        "id": "lO68gACOtiyo",
        "colab_type": "code",
        "colab": {
          "base_uri": "https://localhost:8080/",
          "height": 137
        },
        "outputId": "b85e0df5-cbc9-45af-baa4-f66ccbc9d790"
      },
      "source": [
        "dic={}\n",
        "\n",
        "print(\"<------Menu------>\")\n",
        "print(\"  1. Insert \\n  2. Find \\n  3. Delete \\n  4. Show all \\n  5. Update\")\n",
        "n=int(input(\"Enter choice: \"))\n",
        "\n",
        "\n",
        "while n!=0:\n",
        "  \n",
        "  if n==1:\n",
        "  #insert\n",
        "    n=[]\n",
        "    m=[] \n",
        "    \n",
        "    data=input(\"Enter Data: \")\n",
        "    space=data.split(' ')\n",
        "    comma=space[1].split(',')\n",
        "    #print(comma)\n",
        "\n",
        "\n",
        "    if \";\" in data:                                     \n",
        "      for x in comma:\n",
        "        m.append(x.split(';')[0]) \n",
        "      for p in m:        \n",
        "        if '=' not in p:      \n",
        "          dic[p]=[space[0],\"Null\"]\n",
        "       # print (dic) \n",
        "\n",
        "     \n",
        "        elif '=' in p:\n",
        "          n.append(p.split('='))\n",
        "          for k in n:  \n",
        "            dic.update({k[0]:[space[0],k[-1]]})\n",
        "              #  print(dic)\n",
        "\n",
        "\n",
        "  elif n==2:\n",
        "  #find\n",
        "    key=input(\"Enter key to find: \")   \n",
        "    if key in dic:\n",
        "      print(\"Serial \\t\\t Name \\t\\t Type \\t\\t Value \\t\\t \\n\")  \n",
        "      for item in dic:\n",
        "        if item==key:\n",
        "          res=list(dic.keys()).index(key)\n",
        "          print(\"{}\\t\\t {}\\t\\t {}\\t\\t {}\\t\\t\".format(str(res+1),item,dic[item][0],dic[item][1]))    \n",
        "          \n",
        "    else:\n",
        "      print(\"Invalid Key\")\n",
        "\n",
        "\n",
        "\n",
        "  elif n==3:\n",
        "  #delete\n",
        "   \n",
        "   key=input(\"Enter key to Delete:\")\n",
        "   if key in dic:\n",
        "     del(dic[key])\n",
        "\n",
        "   else:\n",
        "     print(\"Invalid Key\")  \n",
        "\n",
        "\n",
        "     \n",
        "  elif n==4:\n",
        "  #show\n",
        "    print(\"Serial \\t\\t Name \\t\\t Type \\t\\t Value \\t\\t \\n\")  \n",
        "    for item in dic:\n",
        "      res=list(dic.keys()).index(item)\n",
        "      print(\"{}\\t\\t {}\\t\\t {}\\t\\t {}\\t\\t\".format(str(res+1),item,dic[item][0],dic[item][1]))\n",
        "      \n",
        "\n",
        "\n",
        "\n",
        "  elif n==5:\n",
        "  #update\n",
        "   key=input(\"Enter key to Update: \")   \n",
        "   if key in dic:\n",
        "     value=input(\"Enter Update Value: \")\n",
        "     dic[key][1]=value\n",
        "\n",
        "   else:\n",
        "     print(\"Invalid Key\")\n",
        "    \n",
        "\n",
        "\n",
        "  print(\"<------Menu------>\")\n",
        "  print(\"  1. Insert \\n  2. Find \\n  3. Delete \\n  4. Show all \\n  5. Update\")\n",
        "  n=int(input(\"Enter choice: \"))\n",
        "\n"
      ],
      "execution_count": 1,
      "outputs": [
        {
          "output_type": "stream",
          "text": [
            "<------Menu------>\n",
            "  1. Insert \n",
            "  2. Find \n",
            "  3. Delete \n",
            "  4. Show all \n",
            "  5. Update\n",
            "Enter choice: 0\n"
          ],
          "name": "stdout"
        }
      ]
    }
  ]
}