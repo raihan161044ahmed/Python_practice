{
  "nbformat": 4,
  "nbformat_minor": 0,
  "metadata": {
    "colab": {
      "name": "Quiz.ipynb",
      "provenance": [],
      "collapsed_sections": [],
      "authorship_tag": "ABX9TyPyLdUNBWTW3aSL68aEGVPy",
      "include_colab_link": true
    },
    "kernelspec": {
      "name": "python3",
      "display_name": "Python 3"
    }
  },
  "cells": [
    {
      "cell_type": "markdown",
      "metadata": {
        "id": "view-in-github",
        "colab_type": "text"
      },
      "source": [
        "<a href=\"https://colab.research.google.com/github/raihan161044ahmed/Python_practice/blob/master/Quiz.ipynb\" target=\"_parent\"><img src=\"https://colab.research.google.com/assets/colab-badge.svg\" alt=\"Open In Colab\"/></a>"
      ]
    },
    {
      "cell_type": "code",
      "metadata": {
        "id": "RbtEwu2u1HOr",
        "colab_type": "code",
        "colab": {
          "base_uri": "https://localhost:8080/",
          "height": 51
        },
        "outputId": "a6704bdd-151c-4163-daa8-6746ae904c52"
      },
      "source": [
        "id= ['body','p','xyz','label']\n",
        "lower=\"abcdefghijklmnopqrstuvwxyz\"\n",
        "def uiuId():\n",
        "     val = input(\"Enter Input: \")  \n",
        "     k=val.split('>')\n",
        "     tup=(k,)\n",
        "     p=k[1].split('<')\n",
        "     aft=k[0].split('<')\n",
        "     if (p[0][0:2] not in '000' and (p[0][0:2].isdigit()) and  any( t in lower for t in p[0][3:]) and p[0][-1]=='@' and p[0][-3]=='_' \n",
        "         and any( t in lower for t in p[0][-2]) and p[0][-4]=='.' and p[1] in id and aft[1] in id and p[1]==aft[1]):\n",
        "       print(\"Valid\")              \n",
        "     else:\n",
        "        print(\"Not Valid\")\n",
        "\n",
        "uiuId() "
      ],
      "execution_count": 116,
      "outputs": [
        {
          "output_type": "stream",
          "text": [
            "Enter Input: <xyz>1f0john._z@<xyz>\n",
            "Not Valid\n"
          ],
          "name": "stdout"
        }
      ]
    }
  ]
}
