import string

lower="abcdefghijklmnopqrstuvwxyz"
upper="ABCDEFGHIJKLMNOPQRSTUVWXYZ"
NUMBERS = "1234567890+-."
punct="@#$%&"
letter="abcdefghijklmnopqrstuvwxyzABCDEFGHIJKLMNOPQRSTUVWXYZ"

print("Choose 1 for UiuId check: \n Choose 2 for Complex Number: \n Choose 3 for Normal Regex: \n Choose 4 for Int/Float: \n Choose 5 for Password Generator: \n")
n=int(input("Enter choice: "))

if n==1:
  def uiuId():
     val = input("Enter uiu Id: ")  
     if val[0]=="0" and val[1]=="1" and val[2]=="1" and len(val)==9 and val[5] in ("1","2","3") and val[6:]!="000": 
       print("Accepted")              
     else:
        print("Not Accepted")

  uiuId() 

elif n==2:
  def complex():
    val=input("Enter complex number: ")
    ope="+="
    a=val.split("+")
    before=a[0]
    if "i" not in val or all(t not in ope for t in val):
      print ("Not Accepted")
    elif "i" in before:
      print("Not Accepted") 
    else:
     print ("Accepted")
  
  complex() 

elif n==3:
  def regexpt():
    val = input("Enter your value: ") 
    if len(val)>2 and all(t in NUMBERS for t in val[0]) and all(u in upper for u in val[1]) and val[2]not in letter: 
      print("Accepted")              
    else:
      print("Not Accepted") 

  regexpt()  

elif n==4:
  def number():
    val = input("Enter number: ")    
    strDivide=val.split(".")
    tuples=(strDivide,)
    #print(tuples[0][0])
    if  len(tuples[0][0]+str(1))==len(val):
      print("Not Accepted")
    elif all( t in NUMBERS for t in val):
      print("Accepted")
    else:
      print("Not Accepted") 

  number()

elif n==5:
  def password():
      sample = input("Enter password: ")  
      if (any(x in upper for x in sample) and any(x in lower for x in sample) 
         and any(t in NUMBERS for t in sample) and len(sample) >= 8 and sample[-1] in ("@","#","&","$")):     
         print("Accepted")              
      else:
         print("Not Accepted") 
                   
  password()  
