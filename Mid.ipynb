{
  "nbformat": 4,
  "nbformat_minor": 0,
  "metadata": {
    "colab": {
      "name": "Mid.ipynb",
      "provenance": [],
      "collapsed_sections": [],
      "authorship_tag": "ABX9TyM198QvKb8SvewZUxEeomxk",
      "include_colab_link": true
    },
    "kernelspec": {
      "name": "python3",
      "display_name": "Python 3"
    }
  },
  "cells": [
    {
      "cell_type": "markdown",
      "metadata": {
        "id": "view-in-github",
        "colab_type": "text"
      },
      "source": [
        "<a href=\"https://colab.research.google.com/github/raihan161044ahmed/Python_practice/blob/master/Mid.ipynb\" target=\"_parent\"><img src=\"https://colab.research.google.com/assets/colab-badge.svg\" alt=\"Open In Colab\"/></a>"
      ]
    },
    {
      "cell_type": "code",
      "metadata": {
        "id": "PrO_zTNQ2RQg",
        "colab_type": "code",
        "colab": {
          "base_uri": "https://localhost:8080/",
          "height": 703
        },
        "outputId": "d3c974e6-679f-4b1f-bb33-bd9b9b2d0fe2"
      },
      "source": [
        "upper=\"ABCDEFGHIJKLMNOPQRSTUVWXYZ\"\n",
        "letter=\"abcdefghijklmnopqrstuvwxyzABCDEFGHIJKLMNOPQRSTUVWXYZ\"\n",
        "ope=\"+-\"\n",
        "punc=\"#@$\"\n",
        "\n",
        "print(\"<------Menu------>\")\n",
        "print(\"  1.Start \\n 2.Close \\n \")\n",
        "n=int(input(\"Enter choice: \"))\n",
        "\n",
        "while n!=2:\n",
        "  if n==1:\n",
        "    def demo():\n",
        "      val=input(\"Enter input expression: \")\n",
        "      if ( any(x in upper for x in val[-1]) or val[-2] is None and  any(y in ope for y in val[-2]) \n",
        "       and val[-5:-3] not in \"000\" and val[-6] in (\"1\",\"2\",\"3\") and val[-9:-7] in \"UIU\" and any(p in punc for p in val[-10]) and all(t in upper for t in val[ :-11 ])):\n",
        "        print (\"Accepted\")\n",
        "      else:\n",
        "        print (\"Not Accepted\")  \n",
        "\n",
        "\n",
        "\n",
        "    demo()\n",
        "\n",
        "\n",
        "\n",
        "\n",
        "\n",
        "  print(\"<------Menu------>\")\n",
        "  print(\"  1.Enter input \\n 2.Close \\n \")\n",
        "  n=int(input(\"Enter choice: \"))\n",
        "    "
      ],
      "execution_count": 18,
      "outputs": [
        {
          "output_type": "stream",
          "text": [
            "<------Menu------>\n",
            "  1.Enter input \n",
            " 2.Close \n",
            " \n",
            "Enter choice: 1\n",
            "Enter input expression: 1JACK#UIU2001\n",
            "Not Accepted\n",
            "<------Menu------>\n",
            "  1.Enter input \n",
            " 2.Close \n",
            " \n",
            "Enter choice: 1\n",
            "Enter input expression: NAHID@UIU1000\n",
            "Not Accepted\n",
            "<------Menu------>\n",
            "  1.Enter input \n",
            " 2.Close \n",
            " \n",
            "Enter choice: 1\n",
            "Enter input expression: KARIM@UIU1415+A\n",
            "Accepted\n",
            "<------Menu------>\n",
            "  1.Enter input \n",
            " 2.Close \n",
            " \n",
            "Enter choice: 1\n",
            "Enter input expression: NAHID$UIU3110-B\n",
            "Accepted\n",
            "<------Menu------>\n",
            "  1.Enter input \n",
            " 2.Close \n",
            " \n",
            "Enter choice: 1\n",
            "Enter input expression: JACK#UIU2001C\n",
            "Accepted\n",
            "<------Menu------>\n",
            "  1.Enter input \n",
            " 2.Close \n",
            " \n",
            "Enter choice: 2\n"
          ],
          "name": "stdout"
        }
      ]
    }
  ]
}