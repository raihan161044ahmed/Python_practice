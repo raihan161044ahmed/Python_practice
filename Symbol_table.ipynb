dic={}

print("<------Menu------>")
print("  1. Insert \n  2. Find \n  3. Delete \n  4. Show all \n  5. Update")
n=int(input("Enter choice: "))


while n!=0:
  
  if n==1:
  #insert
    n=[]
    m=[] 
    
    data=input("Enter Data: ")
    space=data.split(' ')
    comma=space[1].split(',')
    #print(comma)


    if ";" in data:                                     
      for x in comma:
        m.append(x.split(';')[0]) 
      for p in m:        
        if '=' not in p:      
          dic[p]=[space[0],"Null"]
       # print (dic) 

     
        elif '=' in p:
          for i in m:
            if '=' in i:
              n.append(i.split('='))
              for k in n:  
                dic.update({k[0]:[space[0],k[-1]]})
              #  print(dic)


  elif n==2:
  #find
    key=input("Enter key to find: ")   
    if key in dic:
      print("Serial \t\t Name \t\t Type \t\t Value \t\t \n")  
      for item in dic:
        if item==key:
          res=list(dic.keys()).index(key)
          print("{}\t\t {}\t\t {}\t\t {}\t\t".format(str(res+1),item,dic[item][0],dic[item][1]))    
          
    else:
      print("Invalid Key")



  elif n==3:
  #delete
   
   key=input("Enter key to Delete:")
   if key in dic:
     del(dic[key])

   else:
     print("Invalid Key")  


     
  elif n==4:
  #show
    print("Serial \t\t Name \t\t Type \t\t Value \t\t \n")  
    for item in dic:
      res=list(dic.keys()).index(item)
      print("{}\t\t {}\t\t {}\t\t {}\t\t".format(str(res+1),item,dic[item][0],dic[item][1]))
      



  elif n==5:
  #update
   key=input("Enter key to Update: ")   
   if key in dic:
     value=input("Enter Update Value: ")
     dic[key][1]=value

   else:
     print("Invalid Key")
    


  print("<------Menu------>")
  print("  1. Insert \n  2. Find \n  3. Delete \n  4. Show all \n  5. Update")
  n=int(input("Enter choice: "))

