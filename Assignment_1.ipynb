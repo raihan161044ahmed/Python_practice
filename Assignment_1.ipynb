{
  "nbformat": 4,
  "nbformat_minor": 0,
  "metadata": {
    "colab": {
      "name": "Assignment_1.ipynb",
      "provenance": [],
      "collapsed_sections": [],
      "authorship_tag": "ABX9TyOhpXNEmq4hVqwB0+KpdJ2I",
      "include_colab_link": true
    },
    "kernelspec": {
      "name": "python3",
      "display_name": "Python 3"
    }
  },
  "cells": [
    {
      "cell_type": "markdown",
      "metadata": {
        "id": "view-in-github",
        "colab_type": "text"
      },
      "source": [
        "<a href=\"https://colab.research.google.com/github/raihan161044ahmed/Python_practice/blob/master/Assignment_1.ipynb\" target=\"_parent\"><img src=\"https://colab.research.google.com/assets/colab-badge.svg\" alt=\"Open In Colab\"/></a>"
      ]
    },
    {
      "cell_type": "code",
      "metadata": {
        "id": "DrIFWnaLPvvz",
        "colab_type": "code",
        "colab": {
          "base_uri": "https://localhost:8080/",
          "height": 137
        },
        "outputId": "884a5ce0-97fe-4fea-e382-1e98a05ac026"
      },
      "source": [
        "import string\n",
        "\n",
        "lower=\"abcdefghijklmnopqrstuvwxyz\"\n",
        "upper=\"ABCDEFGHIJKLMNOPQRSTUVWXYZ\"\n",
        "NUMBERS = \"1234567890+-.\"\n",
        "punct=\"@#$%&\"\n",
        "letter=\"abcdefghijklmnopqrstuvwxyzABCDEFGHIJKLMNOPQRSTUVWXYZ\"\n",
        "\n",
        "print(\"Choose 1 for UiuId check: \\n Choose 2 for Complex Number: \\n Choose 3 for Normal Regex: \\n Choose 4 for Int/Float: \\n Choose 5 for Password Generator: \\n\")\n",
        "n=int(input(\"Enter choice: \"))\n",
        "\n",
        "if n==1:\n",
        "  def uiuId():\n",
        "     val = input(\"Enter uiu Id: \")  \n",
        "     if val[0]==\"0\" and val[1]==\"1\" and val[2]==\"1\" and len(val)==9 and val[5] in (\"1\",\"2\",\"3\") and val[6:]!=\"000\": \n",
        "       print(\"Accepted\")              \n",
        "     else:\n",
        "        print(\"Not Accepted\")\n",
        "\n",
        "  uiuId() \n",
        "\n",
        "elif n==2:\n",
        "  def complex():\n",
        "    val=input(\"Enter complex number: \")\n",
        "    ope=\"+=\"\n",
        "    a=val.split(\"+\")\n",
        "    before=a[0]\n",
        "    if \"i\" not in val or all(t not in ope for t in val):\n",
        "      print (\"Not Accepted\")\n",
        "    elif \"i\" in before:\n",
        "      print(\"Not Accepted\") \n",
        "    else:\n",
        "     print (\"Accepted\")\n",
        "  \n",
        "  complex() \n",
        "\n",
        "elif n==3:\n",
        "  def regexpt():\n",
        "    val = input(\"Enter your value: \") \n",
        "    if len(val)>2 and all(t in NUMBERS for t in val[0]) and all(u in upper for u in val[1]) and val[2]not in letter: \n",
        "      print(\"Accepted\")              \n",
        "    else:\n",
        "      print(\"Not Accepted\") \n",
        "\n",
        "  regexpt()  \n",
        "\n",
        "elif n==4:\n",
        "  def number():\n",
        "    val = input(\"Enter number: \")    \n",
        "    strDivide=val.split(\".\")\n",
        "    tuples=(strDivide,)\n",
        "    #print(tuples[0][0])\n",
        "    if  len(tuples[0][0]+str(1))==len(val):\n",
        "      print(\"Not Accepted\")\n",
        "    elif all( t in NUMBERS for t in val):\n",
        "      print(\"Accepted\")\n",
        "    else:\n",
        "      print(\"Not Accepted\") \n",
        "\n",
        "  number()\n",
        "\n",
        "elif n==5:\n",
        "  def password():\n",
        "      sample = input(\"Enter password: \")  \n",
        "      if (any(x in upper for x in sample) and any(x in lower for x in sample) \n",
        "         and any(t in NUMBERS for t in sample) and len(sample) >= 8 and sample[-1] in (\"@\",\"#\",\"&\",\"$\")):     \n",
        "         print(\"Accepted\")              \n",
        "      else:\n",
        "         print(\"Not Accepted\") \n",
        "                   \n",
        "  password()  "
      ],
      "execution_count": 1,
      "outputs": [
        {
          "output_type": "stream",
          "text": [
            "Choose 1 for UiuId check: \n",
            " Choose 2 for Complex Number: \n",
            " Choose 3 for Normal Regex: \n",
            " Choose 4 for Int/Float: \n",
            " Choose 5 for Password Generator: \n",
            "\n",
            "Enter choice: 0\n"
          ],
          "name": "stdout"
        }
      ]
    }
  ]
}